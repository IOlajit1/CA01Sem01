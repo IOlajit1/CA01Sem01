{
 "cells": [
  {
   "cell_type": "markdown",
   "id": "d8bfeb3a",
   "metadata": {},
   "source": [
    "## Import required library"
   ]
  },
  {
   "cell_type": "code",
   "execution_count": 2,
   "id": "e62fc724",
   "metadata": {},
   "outputs": [],
   "source": [
    "import pandas as pd"
   ]
  },
  {
   "cell_type": "code",
   "execution_count": 3,
   "id": "aec4f98d",
   "metadata": {},
   "outputs": [],
   "source": [
    "Population=pd.read_csv('PEA11.20231021T221005.csv')"
   ]
  },
  {
   "cell_type": "markdown",
   "id": "935d10e2",
   "metadata": {},
   "source": [
    "## DATA EXPLORATION"
   ]
  },
  {
   "cell_type": "markdown",
   "id": "ab4e0b5a",
   "metadata": {},
   "source": [
    "Find out the shape of the read CSV to get an idea of size"
   ]
  },
  {
   "cell_type": "code",
   "execution_count": 4,
   "id": "cfe5383b",
   "metadata": {},
   "outputs": [
    {
     "name": "stdout",
     "output_type": "stream",
     "text": [
      "Number of Rows and Columns respectively: (11817, 6)\n"
     ]
    }
   ],
   "source": [
    "Population.shape\n",
    "print('Number of Rows and Columns respectively:',Population.shape)"
   ]
  },
  {
   "cell_type": "code",
   "execution_count": 5,
   "id": "8c4e0121",
   "metadata": {},
   "outputs": [
    {
     "name": "stdout",
     "output_type": "stream",
     "text": [
      "<class 'pandas.core.frame.DataFrame'>\n",
      "RangeIndex: 11817 entries, 0 to 11816\n",
      "Data columns (total 6 columns):\n",
      " #   Column              Non-Null Count  Dtype \n",
      "---  ------              --------------  ----- \n",
      " 0   STATISTIC Label     11817 non-null  object\n",
      " 1   Year                11817 non-null  int64 \n",
      " 2   Single Year of Age  11817 non-null  object\n",
      " 3   Sex                 11817 non-null  object\n",
      " 4   UNIT                11817 non-null  object\n",
      " 5   VALUE               11817 non-null  int64 \n",
      "dtypes: int64(2), object(4)\n",
      "memory usage: 554.1+ KB\n"
     ]
    }
   ],
   "source": [
    "Population.info()"
   ]
  },
  {
   "cell_type": "markdown",
   "id": "5d6627e8",
   "metadata": {},
   "source": [
    "The dataset, above, was checked to detect any missing/blank values. The number of non-null values match the number of rows\n",
    "so no missing values detected. 'info() was also used to check the data type of each column in the dataset. This can be later seen when a section of the dataset is displayed\n",
    "\n",
    "To confirm this, the sum of the blank values are counted and collated for each column as below"
   ]
  },
  {
   "cell_type": "code",
   "execution_count": 6,
   "id": "b6eadbc9",
   "metadata": {},
   "outputs": [
    {
     "data": {
      "text/plain": [
       "STATISTIC Label       0\n",
       "Year                  0\n",
       "Single Year of Age    0\n",
       "Sex                   0\n",
       "UNIT                  0\n",
       "VALUE                 0\n",
       "dtype: int64"
      ]
     },
     "execution_count": 6,
     "metadata": {},
     "output_type": "execute_result"
    }
   ],
   "source": [
    "Population.isna().sum()"
   ]
  },
  {
   "cell_type": "markdown",
   "id": "ffa2efa4",
   "metadata": {},
   "source": [
    "The above only checks for missing value, but sometimes due to data entry, the inputted values could be invalid even if filled in. The code below will utilise a function to check for a list of commonly entered values that wouldn't count as blank but also wouldn't be valid entries so it would be best to replace with 'NaN'\n",
    "\n",
    "For the function 'count_invalid_entries'\n",
    "\n"
   ]
  },
  {
   "cell_type": "code",
   "execution_count": 22,
   "id": "d99a85c7",
   "metadata": {},
   "outputs": [
    {
     "name": "stdout",
     "output_type": "stream",
     "text": [
      "Number of rows that match the list of strings in all columns: 0\n"
     ]
    }
   ],
   "source": [
    "# List of values to search for\n",
    "invalid_entries = ['n.a', '-','--', 'NA', 'Not Applicable', 'n/a']\n",
    "\n",
    "#This will now count all the rows that match the list of commonly entered values in place of blanks in data for all columns\n",
    "#'.lower()'' is used to change both assessed entries and given invalid entries to lowercase to make the function \n",
    "#non -sensitive\n",
    "def count_invalid_entries(dataframe, invalid_entries):\n",
    "    matching_rows = dataframe[dataframe.apply(lambda row: any(item.lower() in row.values for item in invalid_entries), axis=1)]\n",
    "    return len(matching_rows)\n",
    "\n",
    "# Call the function and count matching rows in all columns\n",
    "count = count_invalid_entries(Population, invalid_entries)\n",
    "print(f\"Number of rows that match the list of strings in all columns: {count}\")"
   ]
  },
  {
   "cell_type": "markdown",
   "id": "9906f757",
   "metadata": {},
   "source": [
    "The function returns no values matching the list inside the whole dataset"
   ]
  },
  {
   "cell_type": "markdown",
   "id": "071a8271",
   "metadata": {},
   "source": [
    "Now that missing and invalid values have been confirmed above, duplicate values are detected below and the same idea as above, is used to display the sum of any rows that are similar for **ALL** values in the row"
   ]
  },
  {
   "cell_type": "code",
   "execution_count": 17,
   "id": "d952f20d",
   "metadata": {},
   "outputs": [
    {
     "name": "stdout",
     "output_type": "stream",
     "text": [
      "The sum of duplicate rows in the dataset is: 0 rows\n"
     ]
    }
   ],
   "source": [
    "Population.duplicated().sum()\n",
    "print ('The sum of duplicate rows in the dataset is:',Population.duplicated().sum(),'rows')"
   ]
  },
  {
   "cell_type": "markdown",
   "id": "9fa6b609",
   "metadata": {},
   "source": [
    "Below, a snapshot into the first ('.head(5)') and last ('.tail(5)) 5 rows is displayed\n",
    "\n",
    "This is useful as all column names are displayed at once"
   ]
  },
  {
   "cell_type": "code",
   "execution_count": 9,
   "id": "ac5198c1",
   "metadata": {},
   "outputs": [
    {
     "data": {
      "text/html": [
       "<div>\n",
       "<style scoped>\n",
       "    .dataframe tbody tr th:only-of-type {\n",
       "        vertical-align: middle;\n",
       "    }\n",
       "\n",
       "    .dataframe tbody tr th {\n",
       "        vertical-align: top;\n",
       "    }\n",
       "\n",
       "    .dataframe thead th {\n",
       "        text-align: right;\n",
       "    }\n",
       "</style>\n",
       "<table border=\"1\" class=\"dataframe\">\n",
       "  <thead>\n",
       "    <tr style=\"text-align: right;\">\n",
       "      <th></th>\n",
       "      <th>STATISTIC Label</th>\n",
       "      <th>Year</th>\n",
       "      <th>Single Year of Age</th>\n",
       "      <th>Sex</th>\n",
       "      <th>UNIT</th>\n",
       "      <th>VALUE</th>\n",
       "    </tr>\n",
       "  </thead>\n",
       "  <tbody>\n",
       "    <tr>\n",
       "      <th>0</th>\n",
       "      <td>Population estimates from 1926</td>\n",
       "      <td>1926</td>\n",
       "      <td>All ages</td>\n",
       "      <td>Both sexes</td>\n",
       "      <td>Number</td>\n",
       "      <td>2971992</td>\n",
       "    </tr>\n",
       "    <tr>\n",
       "      <th>1</th>\n",
       "      <td>Population estimates from 1926</td>\n",
       "      <td>1926</td>\n",
       "      <td>All ages</td>\n",
       "      <td>Male</td>\n",
       "      <td>Number</td>\n",
       "      <td>1506889</td>\n",
       "    </tr>\n",
       "    <tr>\n",
       "      <th>2</th>\n",
       "      <td>Population estimates from 1926</td>\n",
       "      <td>1926</td>\n",
       "      <td>All ages</td>\n",
       "      <td>Female</td>\n",
       "      <td>Number</td>\n",
       "      <td>1465103</td>\n",
       "    </tr>\n",
       "    <tr>\n",
       "      <th>3</th>\n",
       "      <td>Population estimates from 1926</td>\n",
       "      <td>1926</td>\n",
       "      <td>Under 1 year</td>\n",
       "      <td>Both sexes</td>\n",
       "      <td>Number</td>\n",
       "      <td>55391</td>\n",
       "    </tr>\n",
       "    <tr>\n",
       "      <th>4</th>\n",
       "      <td>Population estimates from 1926</td>\n",
       "      <td>1926</td>\n",
       "      <td>Under 1 year</td>\n",
       "      <td>Male</td>\n",
       "      <td>Number</td>\n",
       "      <td>28084</td>\n",
       "    </tr>\n",
       "  </tbody>\n",
       "</table>\n",
       "</div>"
      ],
      "text/plain": [
       "                  STATISTIC Label  Year Single Year of Age         Sex  \\\n",
       "0  Population estimates from 1926  1926           All ages  Both sexes   \n",
       "1  Population estimates from 1926  1926           All ages        Male   \n",
       "2  Population estimates from 1926  1926           All ages      Female   \n",
       "3  Population estimates from 1926  1926       Under 1 year  Both sexes   \n",
       "4  Population estimates from 1926  1926       Under 1 year        Male   \n",
       "\n",
       "     UNIT    VALUE  \n",
       "0  Number  2971992  \n",
       "1  Number  1506889  \n",
       "2  Number  1465103  \n",
       "3  Number    55391  \n",
       "4  Number    28084  "
      ]
     },
     "execution_count": 9,
     "metadata": {},
     "output_type": "execute_result"
    }
   ],
   "source": [
    "Population.head(5)"
   ]
  },
  {
   "cell_type": "code",
   "execution_count": 8,
   "id": "ee1457c0",
   "metadata": {},
   "outputs": [
    {
     "data": {
      "text/html": [
       "<div>\n",
       "<style scoped>\n",
       "    .dataframe tbody tr th:only-of-type {\n",
       "        vertical-align: middle;\n",
       "    }\n",
       "\n",
       "    .dataframe tbody tr th {\n",
       "        vertical-align: top;\n",
       "    }\n",
       "\n",
       "    .dataframe thead th {\n",
       "        text-align: right;\n",
       "    }\n",
       "</style>\n",
       "<table border=\"1\" class=\"dataframe\">\n",
       "  <thead>\n",
       "    <tr style=\"text-align: right;\">\n",
       "      <th></th>\n",
       "      <th>STATISTIC Label</th>\n",
       "      <th>Year</th>\n",
       "      <th>Single Year of Age</th>\n",
       "      <th>Sex</th>\n",
       "      <th>UNIT</th>\n",
       "      <th>VALUE</th>\n",
       "    </tr>\n",
       "  </thead>\n",
       "  <tbody>\n",
       "    <tr>\n",
       "      <th>11812</th>\n",
       "      <td>Population estimates from 1926</td>\n",
       "      <td>2023</td>\n",
       "      <td>98 years</td>\n",
       "      <td>Male</td>\n",
       "      <td>Number</td>\n",
       "      <td>197</td>\n",
       "    </tr>\n",
       "    <tr>\n",
       "      <th>11813</th>\n",
       "      <td>Population estimates from 1926</td>\n",
       "      <td>2023</td>\n",
       "      <td>98 years</td>\n",
       "      <td>Female</td>\n",
       "      <td>Number</td>\n",
       "      <td>632</td>\n",
       "    </tr>\n",
       "    <tr>\n",
       "      <th>11814</th>\n",
       "      <td>Population estimates from 1926</td>\n",
       "      <td>2023</td>\n",
       "      <td>99 years and over</td>\n",
       "      <td>Both sexes</td>\n",
       "      <td>Number</td>\n",
       "      <td>1600</td>\n",
       "    </tr>\n",
       "    <tr>\n",
       "      <th>11815</th>\n",
       "      <td>Population estimates from 1926</td>\n",
       "      <td>2023</td>\n",
       "      <td>99 years and over</td>\n",
       "      <td>Male</td>\n",
       "      <td>Number</td>\n",
       "      <td>352</td>\n",
       "    </tr>\n",
       "    <tr>\n",
       "      <th>11816</th>\n",
       "      <td>Population estimates from 1926</td>\n",
       "      <td>2023</td>\n",
       "      <td>99 years and over</td>\n",
       "      <td>Female</td>\n",
       "      <td>Number</td>\n",
       "      <td>1248</td>\n",
       "    </tr>\n",
       "  </tbody>\n",
       "</table>\n",
       "</div>"
      ],
      "text/plain": [
       "                      STATISTIC Label  Year Single Year of Age         Sex  \\\n",
       "11812  Population estimates from 1926  2023           98 years        Male   \n",
       "11813  Population estimates from 1926  2023           98 years      Female   \n",
       "11814  Population estimates from 1926  2023  99 years and over  Both sexes   \n",
       "11815  Population estimates from 1926  2023  99 years and over        Male   \n",
       "11816  Population estimates from 1926  2023  99 years and over      Female   \n",
       "\n",
       "         UNIT  VALUE  \n",
       "11812  Number    197  \n",
       "11813  Number    632  \n",
       "11814  Number   1600  \n",
       "11815  Number    352  \n",
       "11816  Number   1248  "
      ]
     },
     "execution_count": 8,
     "metadata": {},
     "output_type": "execute_result"
    }
   ],
   "source": [
    "Population.tail(5)"
   ]
  },
  {
   "cell_type": "markdown",
   "id": "eea0c1bb",
   "metadata": {},
   "source": [
    "From above, it is good to note that 11816 is the designation of the last row in the dataset. This is important as the rows are read and displayed as integer index unless otherwise assigned\n",
    "\n",
    "It is also seen that 'VALUE' and 'Year' are the only numerical columns above\n",
    "\n",
    "This is also corroborated below when '.describe()' was used but '.describe(include=object)' had to be used to show the\n",
    "remaining categorical columns"
   ]
  },
  {
   "cell_type": "code",
   "execution_count": 18,
   "id": "cc100ab9",
   "metadata": {},
   "outputs": [
    {
     "data": {
      "text/html": [
       "<div>\n",
       "<style scoped>\n",
       "    .dataframe tbody tr th:only-of-type {\n",
       "        vertical-align: middle;\n",
       "    }\n",
       "\n",
       "    .dataframe tbody tr th {\n",
       "        vertical-align: top;\n",
       "    }\n",
       "\n",
       "    .dataframe thead th {\n",
       "        text-align: right;\n",
       "    }\n",
       "</style>\n",
       "<table border=\"1\" class=\"dataframe\">\n",
       "  <thead>\n",
       "    <tr style=\"text-align: right;\">\n",
       "      <th></th>\n",
       "      <th>Year</th>\n",
       "      <th>VALUE</th>\n",
       "    </tr>\n",
       "  </thead>\n",
       "  <tbody>\n",
       "    <tr>\n",
       "      <th>count</th>\n",
       "      <td>11817.000000</td>\n",
       "      <td>1.181700e+04</td>\n",
       "    </tr>\n",
       "    <tr>\n",
       "      <th>mean</th>\n",
       "      <td>1996.410256</td>\n",
       "      <td>5.352461e+04</td>\n",
       "    </tr>\n",
       "    <tr>\n",
       "      <th>std</th>\n",
       "      <td>24.463165</td>\n",
       "      <td>2.867754e+05</td>\n",
       "    </tr>\n",
       "    <tr>\n",
       "      <th>min</th>\n",
       "      <td>1926.000000</td>\n",
       "      <td>6.000000e+00</td>\n",
       "    </tr>\n",
       "    <tr>\n",
       "      <th>25%</th>\n",
       "      <td>1986.000000</td>\n",
       "      <td>1.242700e+04</td>\n",
       "    </tr>\n",
       "    <tr>\n",
       "      <th>50%</th>\n",
       "      <td>2004.000000</td>\n",
       "      <td>2.667500e+04</td>\n",
       "    </tr>\n",
       "    <tr>\n",
       "      <th>75%</th>\n",
       "      <td>2014.000000</td>\n",
       "      <td>3.557700e+04</td>\n",
       "    </tr>\n",
       "    <tr>\n",
       "      <th>max</th>\n",
       "      <td>2023.000000</td>\n",
       "      <td>5.281612e+06</td>\n",
       "    </tr>\n",
       "  </tbody>\n",
       "</table>\n",
       "</div>"
      ],
      "text/plain": [
       "               Year         VALUE\n",
       "count  11817.000000  1.181700e+04\n",
       "mean    1996.410256  5.352461e+04\n",
       "std       24.463165  2.867754e+05\n",
       "min     1926.000000  6.000000e+00\n",
       "25%     1986.000000  1.242700e+04\n",
       "50%     2004.000000  2.667500e+04\n",
       "75%     2014.000000  3.557700e+04\n",
       "max     2023.000000  5.281612e+06"
      ]
     },
     "execution_count": 18,
     "metadata": {},
     "output_type": "execute_result"
    }
   ],
   "source": [
    "Population.describe()"
   ]
  },
  {
   "cell_type": "markdown",
   "id": "f9e920c4",
   "metadata": {},
   "source": [
    "As the columns above are numerical values, it is possible to compute some statistics based on the datset"
   ]
  },
  {
   "cell_type": "code",
   "execution_count": 12,
   "id": "09af170b",
   "metadata": {},
   "outputs": [
    {
     "data": {
      "text/html": [
       "<div>\n",
       "<style scoped>\n",
       "    .dataframe tbody tr th:only-of-type {\n",
       "        vertical-align: middle;\n",
       "    }\n",
       "\n",
       "    .dataframe tbody tr th {\n",
       "        vertical-align: top;\n",
       "    }\n",
       "\n",
       "    .dataframe thead th {\n",
       "        text-align: right;\n",
       "    }\n",
       "</style>\n",
       "<table border=\"1\" class=\"dataframe\">\n",
       "  <thead>\n",
       "    <tr style=\"text-align: right;\">\n",
       "      <th></th>\n",
       "      <th>STATISTIC Label</th>\n",
       "      <th>Single Year of Age</th>\n",
       "      <th>Sex</th>\n",
       "      <th>UNIT</th>\n",
       "    </tr>\n",
       "  </thead>\n",
       "  <tbody>\n",
       "    <tr>\n",
       "      <th>count</th>\n",
       "      <td>11817</td>\n",
       "      <td>11817</td>\n",
       "      <td>11817</td>\n",
       "      <td>11817</td>\n",
       "    </tr>\n",
       "    <tr>\n",
       "      <th>unique</th>\n",
       "      <td>1</td>\n",
       "      <td>101</td>\n",
       "      <td>3</td>\n",
       "      <td>1</td>\n",
       "    </tr>\n",
       "    <tr>\n",
       "      <th>top</th>\n",
       "      <td>Population estimates from 1926</td>\n",
       "      <td>All ages</td>\n",
       "      <td>Both sexes</td>\n",
       "      <td>Number</td>\n",
       "    </tr>\n",
       "    <tr>\n",
       "      <th>freq</th>\n",
       "      <td>11817</td>\n",
       "      <td>117</td>\n",
       "      <td>3939</td>\n",
       "      <td>11817</td>\n",
       "    </tr>\n",
       "  </tbody>\n",
       "</table>\n",
       "</div>"
      ],
      "text/plain": [
       "                       STATISTIC Label Single Year of Age         Sex    UNIT\n",
       "count                            11817              11817       11817   11817\n",
       "unique                               1                101           3       1\n",
       "top     Population estimates from 1926           All ages  Both sexes  Number\n",
       "freq                             11817                117        3939   11817"
      ]
     },
     "execution_count": 12,
     "metadata": {},
     "output_type": "execute_result"
    }
   ],
   "source": [
    "Population.describe(include=object)"
   ]
  },
  {
   "cell_type": "markdown",
   "id": "f9741b08",
   "metadata": {},
   "source": [
    "## DATA PREPARATION"
   ]
  },
  {
   "cell_type": "markdown",
   "id": "ad478648",
   "metadata": {},
   "source": [
    "From above, it is seen that the columns 'UNIT' and 'STATISTIC LABEL' have only 1 unique value\n",
    "\n",
    "To make the data more streamlined, the columns with only 1 unique value are dropped as the lack of variation in data would not give much useful info during the analysis."
   ]
  },
  {
   "cell_type": "code",
   "execution_count": 25,
   "id": "1b99ab00",
   "metadata": {},
   "outputs": [],
   "source": [
    "Population_df=Population.drop(columns=['UNIT','STATISTIC Label'],axis=1,inplace=False)"
   ]
  },
  {
   "cell_type": "markdown",
   "id": "f11fe98d",
   "metadata": {},
   "source": [
    "'inplace' is set to False instead of True so a new variable can be assigned to the modified datafram instead of mutating the data in place <br><br>\n",
    "Setting it to False was selected majorly because it would be useful to track any intermediate dataframes, when debugging, created as part of the data preparation process <br><br>\n",
    "The new shape and first 5 rows of the new modified dataframe is displayed to see the results"
   ]
  },
  {
   "cell_type": "code",
   "execution_count": 26,
   "id": "3046573f",
   "metadata": {},
   "outputs": [
    {
     "name": "stdout",
     "output_type": "stream",
     "text": [
      "Number of Rows and Columns respectively: (11817, 4)\n"
     ]
    },
    {
     "data": {
      "text/html": [
       "<div>\n",
       "<style scoped>\n",
       "    .dataframe tbody tr th:only-of-type {\n",
       "        vertical-align: middle;\n",
       "    }\n",
       "\n",
       "    .dataframe tbody tr th {\n",
       "        vertical-align: top;\n",
       "    }\n",
       "\n",
       "    .dataframe thead th {\n",
       "        text-align: right;\n",
       "    }\n",
       "</style>\n",
       "<table border=\"1\" class=\"dataframe\">\n",
       "  <thead>\n",
       "    <tr style=\"text-align: right;\">\n",
       "      <th></th>\n",
       "      <th>Year</th>\n",
       "      <th>Single Year of Age</th>\n",
       "      <th>Sex</th>\n",
       "      <th>VALUE</th>\n",
       "    </tr>\n",
       "  </thead>\n",
       "  <tbody>\n",
       "    <tr>\n",
       "      <th>0</th>\n",
       "      <td>1926</td>\n",
       "      <td>All ages</td>\n",
       "      <td>Both sexes</td>\n",
       "      <td>2971992</td>\n",
       "    </tr>\n",
       "    <tr>\n",
       "      <th>1</th>\n",
       "      <td>1926</td>\n",
       "      <td>All ages</td>\n",
       "      <td>Male</td>\n",
       "      <td>1506889</td>\n",
       "    </tr>\n",
       "    <tr>\n",
       "      <th>2</th>\n",
       "      <td>1926</td>\n",
       "      <td>All ages</td>\n",
       "      <td>Female</td>\n",
       "      <td>1465103</td>\n",
       "    </tr>\n",
       "    <tr>\n",
       "      <th>3</th>\n",
       "      <td>1926</td>\n",
       "      <td>Under 1 year</td>\n",
       "      <td>Both sexes</td>\n",
       "      <td>55391</td>\n",
       "    </tr>\n",
       "    <tr>\n",
       "      <th>4</th>\n",
       "      <td>1926</td>\n",
       "      <td>Under 1 year</td>\n",
       "      <td>Male</td>\n",
       "      <td>28084</td>\n",
       "    </tr>\n",
       "  </tbody>\n",
       "</table>\n",
       "</div>"
      ],
      "text/plain": [
       "   Year Single Year of Age         Sex    VALUE\n",
       "0  1926           All ages  Both sexes  2971992\n",
       "1  1926           All ages        Male  1506889\n",
       "2  1926           All ages      Female  1465103\n",
       "3  1926       Under 1 year  Both sexes    55391\n",
       "4  1926       Under 1 year        Male    28084"
      ]
     },
     "execution_count": 26,
     "metadata": {},
     "output_type": "execute_result"
    }
   ],
   "source": [
    "Population_df\n",
    "print('Number of Rows and Columns respectively:',Population_df.shape)\n",
    "Population_df.head()"
   ]
  },
  {
   "cell_type": "markdown",
   "id": "ef795e6a",
   "metadata": {},
   "source": [
    "The columns were modified to make more visually readable\n",
    "The columns 'Single Year of Age' was chnaged to 'Age' and 'VALUE' changed to 'Value' for simplicity and to align with other columns\n",
    "\n",
    "Note: 'inplace' was set to True as the change in reuslting data is minimal"
   ]
  },
  {
   "cell_type": "code",
   "execution_count": 31,
   "id": "be839a95",
   "metadata": {},
   "outputs": [],
   "source": [
    "Population_df.rename(columns={'Single Year of Age': 'Age', 'VALUE': 'Value'}, inplace=True)"
   ]
  },
  {
   "cell_type": "markdown",
   "id": "c8059f86",
   "metadata": {},
   "source": [
    "The first 5 rows of the newly modified dataset are shown to display the changes"
   ]
  },
  {
   "cell_type": "code",
   "execution_count": 35,
   "id": "1364435b",
   "metadata": {},
   "outputs": [
    {
     "data": {
      "text/html": [
       "<div>\n",
       "<style scoped>\n",
       "    .dataframe tbody tr th:only-of-type {\n",
       "        vertical-align: middle;\n",
       "    }\n",
       "\n",
       "    .dataframe tbody tr th {\n",
       "        vertical-align: top;\n",
       "    }\n",
       "\n",
       "    .dataframe thead th {\n",
       "        text-align: right;\n",
       "    }\n",
       "</style>\n",
       "<table border=\"1\" class=\"dataframe\">\n",
       "  <thead>\n",
       "    <tr style=\"text-align: right;\">\n",
       "      <th></th>\n",
       "      <th>Year</th>\n",
       "      <th>Age</th>\n",
       "      <th>Sex</th>\n",
       "      <th>Value</th>\n",
       "    </tr>\n",
       "  </thead>\n",
       "  <tbody>\n",
       "    <tr>\n",
       "      <th>0</th>\n",
       "      <td>1926</td>\n",
       "      <td>All ages</td>\n",
       "      <td>Both sexes</td>\n",
       "      <td>2971992</td>\n",
       "    </tr>\n",
       "    <tr>\n",
       "      <th>1</th>\n",
       "      <td>1926</td>\n",
       "      <td>All ages</td>\n",
       "      <td>Male</td>\n",
       "      <td>1506889</td>\n",
       "    </tr>\n",
       "    <tr>\n",
       "      <th>2</th>\n",
       "      <td>1926</td>\n",
       "      <td>All ages</td>\n",
       "      <td>Female</td>\n",
       "      <td>1465103</td>\n",
       "    </tr>\n",
       "    <tr>\n",
       "      <th>3</th>\n",
       "      <td>1926</td>\n",
       "      <td>Under 1 year</td>\n",
       "      <td>Both sexes</td>\n",
       "      <td>55391</td>\n",
       "    </tr>\n",
       "    <tr>\n",
       "      <th>4</th>\n",
       "      <td>1926</td>\n",
       "      <td>Under 1 year</td>\n",
       "      <td>Male</td>\n",
       "      <td>28084</td>\n",
       "    </tr>\n",
       "  </tbody>\n",
       "</table>\n",
       "</div>"
      ],
      "text/plain": [
       "   Year           Age         Sex    Value\n",
       "0  1926      All ages  Both sexes  2971992\n",
       "1  1926      All ages        Male  1506889\n",
       "2  1926      All ages      Female  1465103\n",
       "3  1926  Under 1 year  Both sexes    55391\n",
       "4  1926  Under 1 year        Male    28084"
      ]
     },
     "execution_count": 35,
     "metadata": {},
     "output_type": "execute_result"
    }
   ],
   "source": [
    "Population_df.head()"
   ]
  },
  {
   "cell_type": "markdown",
   "id": "2ec9e1a7",
   "metadata": {},
   "source": [
    "This section will now look to create a number of sub dataframes to give the data focus on certain aspects. Each year, for each age, is reported with numbers for 'Male', 'Female' and 'Both sexes'\n",
    "Using a function, 4 different datsets will be created separated by sex:\n",
    "* Both Sexes: Just the total of femal and male per year\n",
    "* Male: Only Male population per year\n",
    "* Female: Only Female population per year\n",
    "* Male_Female: Population per year without totalling it up using Both sexes"
   ]
  },
  {
   "cell_type": "code",
   "execution_count": 39,
   "id": "9bf30e9c",
   "metadata": {},
   "outputs": [],
   "source": [
    "#initialising the function\n",
    "def split_by_sex(dataframe):\n",
    "    Both_sexes_df = dataframe[dataframe['Sex'] == 'Both sexes']\n",
    "    Male_df = dataframe[dataframe['Sex'] == 'Male']\n",
    "    Female_df = dataframe[dataframe['Sex'] == 'Female']\n",
    "    Male_Female_df = dataframe[dataframe['Sex'].isin(['Male', 'Female'])]\n",
    "    return Both_sexes_df, Male_df, Female_df, Male_Female_df\n",
    "\n",
    "Both_sexes_df, Male_df, Female_df, Male_Female_df = split_by_sex(Population_df)"
   ]
  },
  {
   "cell_type": "markdown",
   "id": "e1c1b921",
   "metadata": {},
   "source": [
    "First 5 rows of all new datasets are displayed below"
   ]
  },
  {
   "cell_type": "code",
   "execution_count": 40,
   "id": "f258cad9",
   "metadata": {},
   "outputs": [
    {
     "data": {
      "text/html": [
       "<div>\n",
       "<style scoped>\n",
       "    .dataframe tbody tr th:only-of-type {\n",
       "        vertical-align: middle;\n",
       "    }\n",
       "\n",
       "    .dataframe tbody tr th {\n",
       "        vertical-align: top;\n",
       "    }\n",
       "\n",
       "    .dataframe thead th {\n",
       "        text-align: right;\n",
       "    }\n",
       "</style>\n",
       "<table border=\"1\" class=\"dataframe\">\n",
       "  <thead>\n",
       "    <tr style=\"text-align: right;\">\n",
       "      <th></th>\n",
       "      <th>Year</th>\n",
       "      <th>Age</th>\n",
       "      <th>Sex</th>\n",
       "      <th>Value</th>\n",
       "    </tr>\n",
       "  </thead>\n",
       "  <tbody>\n",
       "    <tr>\n",
       "      <th>0</th>\n",
       "      <td>1926</td>\n",
       "      <td>All ages</td>\n",
       "      <td>Both sexes</td>\n",
       "      <td>2971992</td>\n",
       "    </tr>\n",
       "    <tr>\n",
       "      <th>3</th>\n",
       "      <td>1926</td>\n",
       "      <td>Under 1 year</td>\n",
       "      <td>Both sexes</td>\n",
       "      <td>55391</td>\n",
       "    </tr>\n",
       "    <tr>\n",
       "      <th>6</th>\n",
       "      <td>1926</td>\n",
       "      <td>1 year</td>\n",
       "      <td>Both sexes</td>\n",
       "      <td>55876</td>\n",
       "    </tr>\n",
       "    <tr>\n",
       "      <th>9</th>\n",
       "      <td>1926</td>\n",
       "      <td>2 years</td>\n",
       "      <td>Both sexes</td>\n",
       "      <td>58273</td>\n",
       "    </tr>\n",
       "    <tr>\n",
       "      <th>12</th>\n",
       "      <td>1926</td>\n",
       "      <td>3 years</td>\n",
       "      <td>Both sexes</td>\n",
       "      <td>59050</td>\n",
       "    </tr>\n",
       "  </tbody>\n",
       "</table>\n",
       "</div>"
      ],
      "text/plain": [
       "    Year           Age         Sex    Value\n",
       "0   1926      All ages  Both sexes  2971992\n",
       "3   1926  Under 1 year  Both sexes    55391\n",
       "6   1926        1 year  Both sexes    55876\n",
       "9   1926       2 years  Both sexes    58273\n",
       "12  1926       3 years  Both sexes    59050"
      ]
     },
     "execution_count": 40,
     "metadata": {},
     "output_type": "execute_result"
    }
   ],
   "source": [
    "Both_sexes_df.head()"
   ]
  },
  {
   "cell_type": "code",
   "execution_count": 41,
   "id": "39d6ee4f",
   "metadata": {},
   "outputs": [
    {
     "data": {
      "text/html": [
       "<div>\n",
       "<style scoped>\n",
       "    .dataframe tbody tr th:only-of-type {\n",
       "        vertical-align: middle;\n",
       "    }\n",
       "\n",
       "    .dataframe tbody tr th {\n",
       "        vertical-align: top;\n",
       "    }\n",
       "\n",
       "    .dataframe thead th {\n",
       "        text-align: right;\n",
       "    }\n",
       "</style>\n",
       "<table border=\"1\" class=\"dataframe\">\n",
       "  <thead>\n",
       "    <tr style=\"text-align: right;\">\n",
       "      <th></th>\n",
       "      <th>Year</th>\n",
       "      <th>Age</th>\n",
       "      <th>Sex</th>\n",
       "      <th>Value</th>\n",
       "    </tr>\n",
       "  </thead>\n",
       "  <tbody>\n",
       "    <tr>\n",
       "      <th>1</th>\n",
       "      <td>1926</td>\n",
       "      <td>All ages</td>\n",
       "      <td>Male</td>\n",
       "      <td>1506889</td>\n",
       "    </tr>\n",
       "    <tr>\n",
       "      <th>4</th>\n",
       "      <td>1926</td>\n",
       "      <td>Under 1 year</td>\n",
       "      <td>Male</td>\n",
       "      <td>28084</td>\n",
       "    </tr>\n",
       "    <tr>\n",
       "      <th>7</th>\n",
       "      <td>1926</td>\n",
       "      <td>1 year</td>\n",
       "      <td>Male</td>\n",
       "      <td>28374</td>\n",
       "    </tr>\n",
       "    <tr>\n",
       "      <th>10</th>\n",
       "      <td>1926</td>\n",
       "      <td>2 years</td>\n",
       "      <td>Male</td>\n",
       "      <td>29728</td>\n",
       "    </tr>\n",
       "    <tr>\n",
       "      <th>13</th>\n",
       "      <td>1926</td>\n",
       "      <td>3 years</td>\n",
       "      <td>Male</td>\n",
       "      <td>29872</td>\n",
       "    </tr>\n",
       "  </tbody>\n",
       "</table>\n",
       "</div>"
      ],
      "text/plain": [
       "    Year           Age   Sex    Value\n",
       "1   1926      All ages  Male  1506889\n",
       "4   1926  Under 1 year  Male    28084\n",
       "7   1926        1 year  Male    28374\n",
       "10  1926       2 years  Male    29728\n",
       "13  1926       3 years  Male    29872"
      ]
     },
     "execution_count": 41,
     "metadata": {},
     "output_type": "execute_result"
    }
   ],
   "source": [
    "Male_df.head()"
   ]
  },
  {
   "cell_type": "code",
   "execution_count": 42,
   "id": "37a1b105",
   "metadata": {},
   "outputs": [
    {
     "data": {
      "text/html": [
       "<div>\n",
       "<style scoped>\n",
       "    .dataframe tbody tr th:only-of-type {\n",
       "        vertical-align: middle;\n",
       "    }\n",
       "\n",
       "    .dataframe tbody tr th {\n",
       "        vertical-align: top;\n",
       "    }\n",
       "\n",
       "    .dataframe thead th {\n",
       "        text-align: right;\n",
       "    }\n",
       "</style>\n",
       "<table border=\"1\" class=\"dataframe\">\n",
       "  <thead>\n",
       "    <tr style=\"text-align: right;\">\n",
       "      <th></th>\n",
       "      <th>Year</th>\n",
       "      <th>Age</th>\n",
       "      <th>Sex</th>\n",
       "      <th>Value</th>\n",
       "    </tr>\n",
       "  </thead>\n",
       "  <tbody>\n",
       "    <tr>\n",
       "      <th>2</th>\n",
       "      <td>1926</td>\n",
       "      <td>All ages</td>\n",
       "      <td>Female</td>\n",
       "      <td>1465103</td>\n",
       "    </tr>\n",
       "    <tr>\n",
       "      <th>5</th>\n",
       "      <td>1926</td>\n",
       "      <td>Under 1 year</td>\n",
       "      <td>Female</td>\n",
       "      <td>27307</td>\n",
       "    </tr>\n",
       "    <tr>\n",
       "      <th>8</th>\n",
       "      <td>1926</td>\n",
       "      <td>1 year</td>\n",
       "      <td>Female</td>\n",
       "      <td>27502</td>\n",
       "    </tr>\n",
       "    <tr>\n",
       "      <th>11</th>\n",
       "      <td>1926</td>\n",
       "      <td>2 years</td>\n",
       "      <td>Female</td>\n",
       "      <td>28545</td>\n",
       "    </tr>\n",
       "    <tr>\n",
       "      <th>14</th>\n",
       "      <td>1926</td>\n",
       "      <td>3 years</td>\n",
       "      <td>Female</td>\n",
       "      <td>29178</td>\n",
       "    </tr>\n",
       "  </tbody>\n",
       "</table>\n",
       "</div>"
      ],
      "text/plain": [
       "    Year           Age     Sex    Value\n",
       "2   1926      All ages  Female  1465103\n",
       "5   1926  Under 1 year  Female    27307\n",
       "8   1926        1 year  Female    27502\n",
       "11  1926       2 years  Female    28545\n",
       "14  1926       3 years  Female    29178"
      ]
     },
     "execution_count": 42,
     "metadata": {},
     "output_type": "execute_result"
    }
   ],
   "source": [
    "Female_df.head()"
   ]
  },
  {
   "cell_type": "code",
   "execution_count": 44,
   "id": "74a2e6ef",
   "metadata": {},
   "outputs": [
    {
     "data": {
      "text/html": [
       "<div>\n",
       "<style scoped>\n",
       "    .dataframe tbody tr th:only-of-type {\n",
       "        vertical-align: middle;\n",
       "    }\n",
       "\n",
       "    .dataframe tbody tr th {\n",
       "        vertical-align: top;\n",
       "    }\n",
       "\n",
       "    .dataframe thead th {\n",
       "        text-align: right;\n",
       "    }\n",
       "</style>\n",
       "<table border=\"1\" class=\"dataframe\">\n",
       "  <thead>\n",
       "    <tr style=\"text-align: right;\">\n",
       "      <th></th>\n",
       "      <th>Year</th>\n",
       "      <th>Age</th>\n",
       "      <th>Sex</th>\n",
       "      <th>Value</th>\n",
       "    </tr>\n",
       "  </thead>\n",
       "  <tbody>\n",
       "    <tr>\n",
       "      <th>1</th>\n",
       "      <td>1926</td>\n",
       "      <td>All ages</td>\n",
       "      <td>Male</td>\n",
       "      <td>1506889</td>\n",
       "    </tr>\n",
       "    <tr>\n",
       "      <th>2</th>\n",
       "      <td>1926</td>\n",
       "      <td>All ages</td>\n",
       "      <td>Female</td>\n",
       "      <td>1465103</td>\n",
       "    </tr>\n",
       "    <tr>\n",
       "      <th>4</th>\n",
       "      <td>1926</td>\n",
       "      <td>Under 1 year</td>\n",
       "      <td>Male</td>\n",
       "      <td>28084</td>\n",
       "    </tr>\n",
       "    <tr>\n",
       "      <th>5</th>\n",
       "      <td>1926</td>\n",
       "      <td>Under 1 year</td>\n",
       "      <td>Female</td>\n",
       "      <td>27307</td>\n",
       "    </tr>\n",
       "    <tr>\n",
       "      <th>7</th>\n",
       "      <td>1926</td>\n",
       "      <td>1 year</td>\n",
       "      <td>Male</td>\n",
       "      <td>28374</td>\n",
       "    </tr>\n",
       "  </tbody>\n",
       "</table>\n",
       "</div>"
      ],
      "text/plain": [
       "   Year           Age     Sex    Value\n",
       "1  1926      All ages    Male  1506889\n",
       "2  1926      All ages  Female  1465103\n",
       "4  1926  Under 1 year    Male    28084\n",
       "5  1926  Under 1 year  Female    27307\n",
       "7  1926        1 year    Male    28374"
      ]
     },
     "execution_count": 44,
     "metadata": {},
     "output_type": "execute_result"
    }
   ],
   "source": [
    "Male_Female_df.head()"
   ]
  },
  {
   "cell_type": "markdown",
   "id": "de697794",
   "metadata": {},
   "source": [
    "## DATA VISUALISATION"
   ]
  },
  {
   "cell_type": "markdown",
   "id": "1095c520",
   "metadata": {},
   "source": [
    "To start the visualisations, the matplot library will be imported\n"
   ]
  },
  {
   "cell_type": "code",
   "execution_count": 52,
   "id": "b3c4902f",
   "metadata": {},
   "outputs": [],
   "source": [
    "import matplotlib.pyplot as plt"
   ]
  },
  {
   "cell_type": "code",
   "execution_count": null,
   "id": "786fec0d",
   "metadata": {},
   "outputs": [],
   "source": [
    "The trend of "
   ]
  },
  {
   "cell_type": "code",
   "execution_count": null,
   "id": "3d1eee77",
   "metadata": {},
   "outputs": [],
   "source": []
  },
  {
   "cell_type": "code",
   "execution_count": null,
   "id": "fa05e9f2",
   "metadata": {},
   "outputs": [],
   "source": []
  },
  {
   "cell_type": "code",
   "execution_count": null,
   "id": "8ff5c7e9",
   "metadata": {},
   "outputs": [],
   "source": []
  }
 ],
 "metadata": {
  "kernelspec": {
   "display_name": "Python 3 (ipykernel)",
   "language": "python",
   "name": "python3"
  },
  "language_info": {
   "codemirror_mode": {
    "name": "ipython",
    "version": 3
   },
   "file_extension": ".py",
   "mimetype": "text/x-python",
   "name": "python",
   "nbconvert_exporter": "python",
   "pygments_lexer": "ipython3",
   "version": "3.11.4"
  }
 },
 "nbformat": 4,
 "nbformat_minor": 5
}
